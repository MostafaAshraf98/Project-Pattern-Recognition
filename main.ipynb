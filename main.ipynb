{
 "cells": [
  {
   "cell_type": "code",
   "execution_count": null,
   "metadata": {},
   "outputs": [],
   "source": [
    "%load_ext autoreload\n",
    "%autoreload 2\n",
    "from pathlib import Path\n",
    "from dataloader.dataloader import DataLoader\n",
    "from preprocessing.clustering_segmentation import ClusteringSegmentation\n",
    "from preprocessing.edge_detection import EdgeDetection\n",
    "from preprocessing.image_restoration import ImageRestorer\n",
    "from preprocessing.preproccessing import ImagePreprocessor\n",
    "from preprocessing.region_segmentation import RegionBasedSegmentation\n",
    "from preprocessing.threshold_segmentation import ThresholdSegmentation\n",
    "from feature_extraction.feature_extraction import FeatureExtractor\n",
    "# from feature_selection.feature_selection import FeatureSelection\n",
    "from model_selection.model_selection import ModelSelection\n",
    "from performance_analysis.performance_analysis import PerformanceAnalysis\n",
    "\n",
    "\n",
    "\n",
    "import matplotlib.pyplot as plt\n",
    "from skimage.color import rgb2gray\n",
    "import numpy as np"
   ]
  },
  {
   "attachments": {},
   "cell_type": "markdown",
   "metadata": {},
   "source": [
    "## Data Loading"
   ]
  },
  {
   "cell_type": "code",
   "execution_count": null,
   "metadata": {},
   "outputs": [],
   "source": [
    "dataloader = DataLoader(Path('./data'))\n",
    "X_train, y_train, X_test, y_test, X_val, y_val = dataloader.loadData()"
   ]
  },
  {
   "cell_type": "code",
   "execution_count": null,
   "metadata": {},
   "outputs": [],
   "source": [
    "np.save('X_train.npy', X_train)\n",
    "np.save('y_train.npy', y_train)\n",
    "np.save('X_test.npy', X_test) \n",
    "np.save('y_test.npy', y_test)\n",
    "np.save('X_val.npy', X_val)\n",
    "np.save('y_val.npy', y_val)"
   ]
  },
  {
   "cell_type": "code",
   "execution_count": null,
   "metadata": {},
   "outputs": [],
   "source": [
    "X_train = np.load('X_train.npy')\n",
    "y_train = np.load('y_train.npy') \n",
    "X_test = np.load('X_test.npy')\n",
    "y_test = np.load('y_test.npy')\n",
    "X_val = np.load('X_val.npy')\n",
    "y_val = np.load('y_val.npy')"
   ]
  },
  {
   "cell_type": "code",
   "execution_count": null,
   "metadata": {},
   "outputs": [],
   "source": [
    "print(f\"X_train shape: {X_train.shape}\")\n",
    "print(f\"y_train shape: {y_train.shape}\")\n",
    "print(f\"X_test shape: {X_test.shape}\")\n",
    "print(f\"y_test shape: {y_test.shape}\")\n",
    "print(f\"X_val shape: {X_val.shape}\")\n",
    "print(f\"y_val shape: {y_val.shape}\")"
   ]
  },
  {
   "cell_type": "code",
   "execution_count": null,
   "metadata": {},
   "outputs": [],
   "source": [
    "plt.imshow(X_train[100])\n",
    "plt.show()"
   ]
  },
  {
   "attachments": {},
   "cell_type": "markdown",
   "metadata": {},
   "source": [
    "## Preprocessing"
   ]
  },
  {
   "cell_type": "code",
   "execution_count": null,
   "metadata": {},
   "outputs": [],
   "source": [
    "clustering_segmentation = ClusteringSegmentation(method='kmeans', n_clusters=3, compactness=30.0, sigma=1.0)\n",
    "plt.imshow(clustering_segmentation.process(X_train[0]))\n",
    "plt.show()"
   ]
  },
  {
   "cell_type": "code",
   "execution_count": null,
   "metadata": {},
   "outputs": [],
   "source": [
    "edge_detection = EdgeDetection(method='sobel')\n",
    "#method: for roberts and canny: image must be 2D\n",
    "plt.imshow(edge_detection.process(X_train[0]))\n",
    "plt.show()"
   ]
  },
  {
   "cell_type": "code",
   "execution_count": null,
   "metadata": {},
   "outputs": [],
   "source": [
    "image_restorer = ImageRestorer(method='median')\n",
    "#'mean_rectangular', 'gaussian', 'adaptive' and 'wiener' generate an error\n",
    "plt.imshow(image_restorer.process(X_train[0]))\n",
    "plt.show()"
   ]
  },
  {
   "cell_type": "code",
   "execution_count": null,
   "metadata": {},
   "outputs": [],
   "source": [
    "image_preprocessor = ImagePreprocessor(method = 'CLAHE')\n",
    "# method = 'log' generates an error\n",
    "plt.imshow(image_preprocessor.process(X_train[0]))\n",
    "plt.show()"
   ]
  },
  {
   "cell_type": "code",
   "execution_count": null,
   "metadata": {},
   "outputs": [],
   "source": [
    "region_based_segmentation = RegionBasedSegmentation(method='region_merging')\n",
    "# method: 'region_splitting' generates an error\n",
    "plt.imshow(region_based_segmentation.process(X_train[0]))\n",
    "plt.show()"
   ]
  },
  {
   "attachments": {},
   "cell_type": "markdown",
   "metadata": {},
   "source": [
    "## Features Extraction"
   ]
  },
  {
   "cell_type": "code",
   "execution_count": null,
   "metadata": {},
   "outputs": [],
   "source": [
    "feature_extractor = FeatureExtractor()\n",
    "\n",
    "# HOG FEATURES\n",
    "hog_features = []\n",
    "#10 images with label = 0\n",
    "for i in range(10):\n",
    "    hog_features.append(feature_extractor.extract_hog_features(X_train[i]))\n",
    "# 10 images with label = 3\n",
    "for i in range(1000, 1010):\n",
    "    hog_features.append(feature_extractor.extract_hog_features(X_train[i]))\n",
    "hog_features = np.array(hog_features)\n",
    "print(f\"hog_features shape: {hog_features.shape}\")\n",
    "\n",
    "# LCP FEATURES\n",
    "lbp_features = []\n",
    "for i in range(10):\n",
    "    lbp_features.append(feature_extractor.extract_lbp_features(rgb2gray(X_train[i])))\n",
    "lbp_features = np.array(lbp_features)\n",
    "print(f\"lbp_features shape: {lbp_features.shape}\")\n",
    "\n",
    "# PCA FEATURES\n",
    "pca_features = []\n",
    "for i in range(10):\n",
    "    pca_features.append(feature_extractor.extract_pca_features(X_train[i]))\n",
    "pca_features = np.array(pca_features)\n",
    "print(f\"pca_features shape: {pca_features.shape}\")\n",
    "\n",
    "\n",
    "# SIFT FEATURES (error)\n",
    "# sift_features = []\n",
    "# for i in range(10):\n",
    "#     sift_features.append(feature_extractor.extract_sift_features(X_train[i]))\n",
    "# sift_features = np.array(sift_features)\n",
    "# print(f\"sift_features shape: {sift_features.shape}\")\n",
    "\n",
    "# FOURIER DESCRIPTOR FEATURES (error)\n",
    "# fourier_descriptor_features = []\n",
    "# for i in range(10):\n",
    "#     fourier_descriptor_features.append(feature_extractor.extract_fourier_descriptor_features(X_train[i]))\n",
    "# fourier_descriptor_features = np.array(fourier_descriptor_features)\n",
    "# print(f\"fourier_descriptor_features shape: {fourier_descriptor_features.shape}\")\n",
    "\n",
    "# SURF FEATURES (error)\n",
    "\n",
    "surf_features = []\n",
    "# for i in range(10):\n",
    "#     surf_features.append(feature_extractor.extract_surf_features(X_train[i]))\n",
    "# surf_features = np.array(surf_features)\n",
    "# print(f\"surf_features shape: {surf_features.shape}\")"
   ]
  },
  {
   "attachments": {},
   "cell_type": "markdown",
   "metadata": {},
   "source": [
    "## Feature Selection"
   ]
  },
  {
   "cell_type": "code",
   "execution_count": null,
   "metadata": {},
   "outputs": [],
   "source": []
  },
  {
   "attachments": {},
   "cell_type": "markdown",
   "metadata": {},
   "source": [
    "## Model Selection"
   ]
  },
  {
   "cell_type": "code",
   "execution_count": null,
   "metadata": {},
   "outputs": [],
   "source": [
    "#true_labels is just for trial here\n",
    "true_labels = np.concatenate((np.zeros(10), np.ones(10)*3))\n",
    "model_selection = ModelSelection(hog_features[:15], true_labels[:15], hog_features[15:], true_labels[15:])\n",
    "knn, y_pred = model_selection.KNN()\n",
    "print(y_pred)"
   ]
  },
  {
   "cell_type": "code",
   "execution_count": null,
   "metadata": {},
   "outputs": [],
   "source": [
    "performance_analysis = PerformanceAnalysis('KNN', y_pred, true_labels[15:])\n",
    "performance_analysis.calculate_performance_metrics()"
   ]
  }
 ],
 "metadata": {
  "kernelspec": {
   "display_name": "Python 3",
   "language": "python",
   "name": "python3"
  },
  "language_info": {
   "codemirror_mode": {
    "name": "ipython",
    "version": 3
   },
   "file_extension": ".py",
   "mimetype": "text/x-python",
   "name": "python",
   "nbconvert_exporter": "python",
   "pygments_lexer": "ipython3",
   "version": "3.11.2"
  },
  "orig_nbformat": 4
 },
 "nbformat": 4,
 "nbformat_minor": 2
}
