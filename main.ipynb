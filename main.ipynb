{
 "cells": [
  {
   "cell_type": "code",
   "execution_count": null,
   "metadata": {},
   "outputs": [],
   "source": [
    "%load_ext autoreload\n",
    "%autoreload 2\n",
    "from pathlib import Path\n",
    "from dataloader.dataloader import DataLoader\n",
    "from preprocessing.clustering_segmentation import ClusteringSegmentation\n",
    "from preprocessing.edge_detection import EdgeDetection\n",
    "from preprocessing.image_restoration import ImageRestorer\n",
    "from preprocessing.preproccessing import ImagePreprocessor\n",
    "from preprocessing.region_segmentation import RegionBasedSegmentation\n",
    "from preprocessing.threshold_segmentation import ThresholdSegmentation\n",
    "from feature_extraction.feature_extraction import FeatureExtractor\n",
    "from feature_selection.feature_selection import FeatureSelector\n",
    "from model_selection.model_selection import ModelSelection\n",
    "from performance_analysis.performance_analysis import PerformanceAnalysis\n",
    "\n",
    "import matplotlib.pyplot as plt\n",
    "from skimage.color import rgb2gray\n",
    "import numpy as np"
   ]
  },
  {
   "attachments": {},
   "cell_type": "markdown",
   "metadata": {},
   "source": [
    "## Data Loading"
   ]
  },
  {
   "cell_type": "code",
   "execution_count": null,
   "metadata": {},
   "outputs": [],
   "source": [
    "dataloader = DataLoader(Path('./data'))"
   ]
  },
  {
   "cell_type": "code",
   "execution_count": null,
   "metadata": {},
   "outputs": [],
   "source": [
    "# Load Data from files\n",
    "x_train, y_train, x_test, y_test, x_val, y_val = dataloader.load_data()"
   ]
  },
  {
   "cell_type": "code",
   "execution_count": null,
   "metadata": {},
   "outputs": [],
   "source": [
    "print(f\"x_train shape: {x_train.shape}\")\n",
    "print(f\"y_train shape: {y_train.shape}\")\n",
    "print(f\"x_test shape: {x_test.shape}\")\n",
    "print(f\"y_test shape: {y_test.shape}\")\n",
    "print(f\"x_val shape: {x_val.shape}\")\n",
    "print(f\"y_val shape: {y_val.shape}\")"
   ]
  },
  {
   "cell_type": "code",
   "execution_count": null,
   "metadata": {},
   "outputs": [],
   "source": [
    "plt.imshow(x_train[800])\n",
    "plt.show()"
   ]
  },
  {
   "attachments": {},
   "cell_type": "markdown",
   "metadata": {},
   "source": [
    "## Preprocessing"
   ]
  },
  {
   "cell_type": "code",
   "execution_count": null,
   "metadata": {},
   "outputs": [],
   "source": [
    "index = 810\n",
    "\n",
    "# Method: 'kmeans' or 'canny'\n",
    "\n",
    "clustering_segmentation = ClusteringSegmentation(method='kmeans', n_clusters=3, compactness=30.0, sigma=1.0)\n",
    "kmeans = clustering_segmentation.process(x_train[index])\n",
    "clustering_segmentation = ClusteringSegmentation(method='fcm', n_clusters=3, compactness=1.0, sigma=1.0)\n",
    "fcm = clustering_segmentation.process(x_train[index])\n",
    "\n",
    "fig, ax = plt.subplots(1, 3, figsize=(10, 10))\n",
    "ax[0].set_title('Original Image')\n",
    "ax[1].set_title('k-means')\n",
    "ax[2].set_title('Fuzzy C-Means')\n",
    "ax[0].imshow(x_train[index])\n",
    "ax[1].imshow(kmeans)\n",
    "ax[2].imshow(fcm)\n",
    "plt.show()"
   ]
  },
  {
   "cell_type": "code",
   "execution_count": null,
   "metadata": {},
   "outputs": [],
   "source": [
    "index = 747\n",
    "# method: 'sobel', 'roberts', 'prewitt', 'canny'\n",
    "edge_detection = EdgeDetection()\n",
    "\n",
    "canny_image = edge_detection.canny(x_train[index], sigma=1.0, low_threshold=0.1, high_threshold=0.2)\n",
    "sobel_image = edge_detection.sobel(x_train[index])\n",
    "roberts_image = edge_detection.roberts(x_train[index])\n",
    "\n",
    "fig, ax = plt.subplots(2, 2, figsize=(10, 10))\n",
    "ax[0,0].set_title('Original Image')\n",
    "ax[0,1].set_title('Canny')\n",
    "ax[1,0].set_title('Sobel')\n",
    "ax[1,1].set_title('Roberts')\n",
    "ax[0,0].imshow(x_train[index])\n",
    "ax[0,1].imshow(canny_image)\n",
    "ax[1,0].imshow(sobel_image)\n",
    "ax[1,1].imshow(roberts_image)\n",
    "plt.show()"
   ]
  },
  {
   "cell_type": "code",
   "execution_count": null,
   "metadata": {},
   "outputs": [],
   "source": [
    "index = 451\n",
    "#method: 'median', 'gaussian', 'mean_circular', 'mean_rectangular', 'wiener'\n",
    "image_restorer = ImageRestorer(method='median')\n",
    "median = image_restorer.process(x_train[index])\n",
    "image_restorer = ImageRestorer(method='gaussian')\n",
    "gaussian = image_restorer.process(x_train[index])\n",
    "image_restorer = ImageRestorer(method='mean_circular')\n",
    "mean_circular = image_restorer.process(x_train[index])\n",
    "image_restorer = ImageRestorer(method='mean_rectangular')\n",
    "mean_rectangular = image_restorer.process(x_train[index])\n",
    "image_restorer = ImageRestorer(method='wiener')\n",
    "wiener = image_restorer.process(x_train[index])\n",
    "_, ax = plt.subplots(2, 3, figsize=(10, 10))\n",
    "ax[0,0].set_title('Original Image')\n",
    "ax[0,1].set_title('Median')\n",
    "ax[0,2].set_title('Gaussian')\n",
    "ax[1,0].set_title('Mean Circular')\n",
    "ax[1,1].set_title('Mean Rectangular')\n",
    "ax[1,2].set_title('Wiener')\n",
    "ax[0,0].imshow(x_train[index])\n",
    "ax[0,1].imshow(median)\n",
    "ax[0,2].imshow(gaussian)\n",
    "ax[1,0].imshow(mean_circular)\n",
    "ax[1,1].imshow(mean_rectangular)\n",
    "ax[1,2].imshow(wiener)\n",
    "plt.show()"
   ]
  },
  {
   "cell_type": "code",
   "execution_count": null,
   "metadata": {},
   "outputs": [],
   "source": [
    "index = 478\n",
    "# method: 'HE', 'AHE', 'CLAHE', 'log'\n",
    "image_preprocessor = ImagePreprocessor(method = 'HE')\n",
    "he = image_preprocessor.process(x_train[index])\n",
    "image_preprocessor = ImagePreprocessor(method = 'AHE')\n",
    "ahe = image_preprocessor.process(x_train[index])\n",
    "image_preprocessor = ImagePreprocessor(method = 'CLAHE')\n",
    "clahe = image_preprocessor.process(x_train[index])\n",
    "image_preprocessor = ImagePreprocessor(method = 'log')\n",
    "log_img = image_preprocessor.process(x_train[index])\n",
    "\n",
    "\n",
    "_, ax = plt.subplots(2, 3, figsize=(10, 10))\n",
    "ax[0,0].set_title('Original Image')\n",
    "ax[0,1].set_title('HE')\n",
    "ax[0,2].set_title('AHE')\n",
    "ax[1,0].set_title('CLAHE')\n",
    "ax[1,1].set_title('log')\n",
    "ax[0,0].imshow(x_train[index])\n",
    "ax[0,1].imshow(he)\n",
    "ax[0,2].imshow(ahe)\n",
    "ax[1,0].imshow(clahe)\n",
    "ax[1,1].imshow(log_img)\n",
    "plt.show()"
   ]
  },
  {
   "cell_type": "code",
   "execution_count": null,
   "metadata": {},
   "outputs": [],
   "source": [
    "index = 681\n",
    "region_based_segmentation = RegionBasedSegmentation(method='region_merging')\n",
    "region_merging = region_based_segmentation.process(x_train[index])\n",
    "region_based_segmentation = RegionBasedSegmentation(method='region_growing')\n",
    "region_growing = region_based_segmentation.process(x_train[index])\n",
    "region_based_segmentation = RegionBasedSegmentation(method='region_splitting')\n",
    "region_splitting = region_based_segmentation.process(x_train[index])\n",
    "\n",
    "_, ax = plt.subplots(2, 2, figsize=(10, 10))\n",
    "ax[0,0].set_title('Original Image')\n",
    "ax[0,1].set_title('Region Merging')\n",
    "ax[1,0].set_title('Region Growing')\n",
    "ax[1,1].set_title('Region Splitting')\n",
    "ax[0,0].imshow(x_train[index])\n",
    "ax[0,1].imshow(region_merging)\n",
    "ax[1,0].imshow(region_growing)\n",
    "ax[1,1].imshow(region_splitting)\n",
    "plt.show()"
   ]
  },
  {
   "attachments": {},
   "cell_type": "markdown",
   "metadata": {},
   "source": [
    "## Features Extraction"
   ]
  },
  {
   "cell_type": "code",
   "execution_count": 352,
   "metadata": {},
   "outputs": [
    {
     "name": "stdout",
     "output_type": "stream",
     "text": [
      "lbp_features shape: (5, 409600)\n"
     ]
    }
   ],
   "source": [
    "feature_extractor = FeatureExtractor()\n",
    "\n",
    "# # HOG FEATURES\n",
    "# hog_features = feature_extractor.extract_hog_features(rgb2gray(x_train[:20]))\n",
    "# print(f\"hog_features shape: {hog_features.shape}\")\n",
    "\n",
    "# LBP FEATURES\n",
    "\n",
    "# lbp_features = feature_extractor.extract_lbp_features(rgb2gray(x_train[:5]))\n",
    "# print(f\"lbp_features shape: {lbp_features.shape}\")\n",
    "\n",
    "\n",
    "# SIFT FEATURES (error)\n",
    "# sift_features = []\n",
    "# for i in range(10):\n",
    "#     sift_features.append(feature_extractor.extract_sift_features(X_train[i]))\n",
    "# sift_features = np.array(sift_features)\n",
    "# print(f\"sift_features shape: {sift_features.shape}\")\n",
    "\n",
    "# FOURIER DESCRIPTOR FEATURES (error)\n",
    "# fourier_descriptor_features = []\n",
    "# for i in range(10):\n",
    "#     fourier_descriptor_features.append(feature_extractor.extract_fourier_descriptor_features(x_train[i]))\n",
    "# fourier_descriptor_features = np.array(fourier_descriptor_features)\n",
    "# print(f\"fourier_descriptor_features shape: {fourier_descriptor_features.shape}\")\n",
    "\n",
    "# SURF FEATURES (error)\n",
    "\n",
    "# surf_features = ferature_extractor.extract_surf_features(x_train[0:10])\n",
    "# print(f\"surf_featues shape: {surf_features.shape}\")"
   ]
  },
  {
   "attachments": {},
   "cell_type": "markdown",
   "metadata": {},
   "source": [
    "## Feature Selection"
   ]
  },
  {
   "cell_type": "code",
   "execution_count": null,
   "metadata": {},
   "outputs": [],
   "source": [
    "feature_selector = FeatureSelector()\n",
    "\n",
    "# PCA FEATURES\n",
    "gray_imgs = rgb2gray(x_train)\n",
    "\n",
    "pca_features =  feature_selector.extract_pca_features(gray_imgs,load=True)\n",
    "print(f\"pca_features shape: {pca_features.shape}\")"
   ]
  },
  {
   "attachments": {},
   "cell_type": "markdown",
   "metadata": {},
   "source": [
    "## Model Selection"
   ]
  },
  {
   "cell_type": "code",
   "execution_count": null,
   "metadata": {},
   "outputs": [],
   "source": [
    "# true_labels is just for trial here\n",
    "true_labels = np.concatenate((np.zeros(10), np.ones(10) * 3))\n",
    "model_selection = ModelSelection(\n",
    "    hog_features[:15], true_labels[:15], hog_features[15:], true_labels[15:]\n",
    ")\n",
    "knn, pred_train, pred_val = model_selection.KNN()\n",
    "print(pred_train)\n"
   ]
  },
  {
   "attachments": {},
   "cell_type": "markdown",
   "metadata": {},
   "source": [
    "## Performance Analysis"
   ]
  },
  {
   "cell_type": "code",
   "execution_count": null,
   "metadata": {},
   "outputs": [],
   "source": [
    "performance_analysis = PerformanceAnalysis('KNN', pred_train, true_labels[15:])\n",
    "performance_analysis.calculate_performance_metrics()"
   ]
  }
 ],
 "metadata": {
  "kernelspec": {
   "display_name": "Python 3",
   "language": "python",
   "name": "python3"
  },
  "language_info": {
   "codemirror_mode": {
    "name": "ipython",
    "version": 3
   },
   "file_extension": ".py",
   "mimetype": "text/x-python",
   "name": "python",
   "nbconvert_exporter": "python",
   "pygments_lexer": "ipython3",
   "version": "3.11.2"
  },
  "orig_nbformat": 4
 },
 "nbformat": 4,
 "nbformat_minor": 2
}
